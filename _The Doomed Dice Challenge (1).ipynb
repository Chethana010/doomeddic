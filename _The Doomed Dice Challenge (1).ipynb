{
 "cells": [
  {
   "cell_type": "markdown",
   "id": "fa077be1-0f45-41ca-99e1-fe38dd1b669a",
   "metadata": {},
   "source": [
    "# The Doomed Dice Challenge\n",
    "**Problem Statement: The Doomed Dice Challenge**\n",
    "\n",
    "The below problems must be solved & implemented in Python/Java/Ruby/C++/Go\n",
    "You are given two six-sided dice, Die A and Die B, each with faces numbered from 1 to\n",
    "6.\n",
    "You can only roll both the dice together & your turn is guided by the obtained sum.\n",
    "Example: Die A = 6, Die B = 3. Sum = 6 + 3 = 9\n",
    "\n",
    "You may represent Dice as an Array or Array-like structure.\n",
    "Die A = [1, 2, 3, 4, 5, 6] where the indices represent the 6 faces of the die & the value on\n",
    "each face.\n",
    "\n",
    "**Part-A**"
   ]
  },
  {
   "cell_type": "markdown",
   "id": "948f0c82-b166-401c-ad93-c43db92d0d56",
   "metadata": {},
   "source": [
    "**1. How many total combinations are possible? Show the math along with the code!**"
   ]
  },
  {
   "cell_type": "markdown",
   "id": "dcb89924-d765-4ca0-8cbb-db57e3dab8cb",
   "metadata": {},
   "source": [
    "**2. Calculate and display the distribution of all possible combinations that can be\n",
    "obtained when rolling both Die A and Die B together. Show the math along with\n",
    "the code!\n",
    "Hint: A 6 x 6 Matrix**"
   ]
  },
  {
   "cell_type": "code",
   "execution_count": 27,
   "id": "b00268cf-d2ec-4515-89d5-7a8f432afab7",
   "metadata": {},
   "outputs": [
    {
     "name": "stdout",
     "output_type": "stream",
     "text": [
      "Total Combinations: 36\n",
      "Combinations Matrix:\n",
      "[2, 3, 4, 5, 6, 7]\n",
      "[3, 4, 5, 6, 7, 8]\n",
      "[4, 5, 6, 7, 8, 9]\n",
      "[5, 6, 7, 8, 9, 10]\n",
      "[6, 7, 8, 9, 10, 11]\n",
      "[7, 8, 9, 10, 11, 12]\n"
     ]
    }
   ],
   "source": [
    "# Define the number of sides for each die\n",
    "num_sides_die_a = 6\n",
    "num_sides_die_b = 6\n",
    "\n",
    "total_combinations = num_sides_die_a * num_sides_die_b\n",
    "\n",
    "print(\"Total Combinations:\", total_combinations)\n",
    "\n",
    "# Create an empty matrix to store combinations\n",
    "combinations_matrix = [[0 for _ in range(num_sides_die_b)] for _ in range(num_sides_die_a)]\n",
    "\n",
    "# Loop through each element of the matrix\n",
    "for i in range(num_sides_die_a):\n",
    "    for j in range(num_sides_die_b):\n",
    "        # Calculate the sum of the dice rolls for the current combination\n",
    "        combinations_matrix[i][j] = i + j + 2\n",
    "\n",
    "# Print the combinations matrix\n",
    "print(\"Combinations Matrix:\")\n",
    "for row in combinations_matrix:\n",
    "    print(row)\n"
   ]
  },
  {
   "cell_type": "code",
   "execution_count": null,
   "id": "82af6bf4-a847-4608-9408-797032fafeda",
   "metadata": {},
   "outputs": [],
   "source": []
  }
 ],
 "metadata": {
  "kernelspec": {
   "display_name": "Python 3 (ipykernel)",
   "language": "python",
   "name": "python3"
  },
  "language_info": {
   "codemirror_mode": {
    "name": "ipython",
    "version": 3
   },
   "file_extension": ".py",
   "mimetype": "text/x-python",
   "name": "python",
   "nbconvert_exporter": "python",
   "pygments_lexer": "ipython3",
   "version": "3.9.10"
  }
 },
 "nbformat": 4,
 "nbformat_minor": 5
}
